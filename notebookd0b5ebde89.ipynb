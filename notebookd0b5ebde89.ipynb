{
 "cells": [
  {
   "cell_type": "code",
   "execution_count": 1,
   "id": "8b2e28ba",
   "metadata": {
    "_cell_guid": "b1076dfc-b9ad-4769-8c92-a6c4dae69d19",
    "_uuid": "8f2839f25d086af736a60e9eeb907d3b93b6e0e5",
    "execution": {
     "iopub.execute_input": "2022-05-26T08:13:23.161907Z",
     "iopub.status.busy": "2022-05-26T08:13:23.161100Z",
     "iopub.status.idle": "2022-05-26T08:13:23.178669Z",
     "shell.execute_reply": "2022-05-26T08:13:23.177583Z"
    },
    "papermill": {
     "duration": 0.031523,
     "end_time": "2022-05-26T08:13:23.181312",
     "exception": false,
     "start_time": "2022-05-26T08:13:23.149789",
     "status": "completed"
    },
    "tags": []
   },
   "outputs": [
    {
     "name": "stdout",
     "output_type": "stream",
     "text": [
      "/kaggle/input/spaceshiptitanic/sample_submission.csv\n",
      "/kaggle/input/spaceshiptitanic/train.csv\n",
      "/kaggle/input/spaceshiptitanic/test.csv\n"
     ]
    }
   ],
   "source": [
    "# This Python 3 environment comes with many helpful analytics libraries installed\n",
    "# It is defined by the kaggle/python Docker image: https://github.com/kaggle/docker-python\n",
    "# For example, here's several helpful packages to load\n",
    "\n",
    "import numpy as np # linear algebra\n",
    "import pandas as pd # data processing, CSV file I/O (e.g. pd.read_csv)\n",
    "\n",
    "# Input data files are available in the read-only \"../input/\" directory\n",
    "# For example, running this (by clicking run or pressing Shift+Enter) will list all files under the input directory\n",
    "\n",
    "import os\n",
    "for dirname, _, filenames in os.walk('/kaggle/input'):\n",
    "    for filename in filenames:\n",
    "        print(os.path.join(dirname, filename))\n",
    "\n",
    "# You can write up to 20GB to the current directory (/kaggle/working/) that gets preserved as output when you create a version using \"Save & Run All\" \n",
    "# You can also write temporary files to /kaggle/temp/, but they won't be saved outside of the current session"
   ]
  },
  {
   "cell_type": "code",
   "execution_count": 2,
   "id": "8d023cdc",
   "metadata": {
    "execution": {
     "iopub.execute_input": "2022-05-26T08:13:23.195486Z",
     "iopub.status.busy": "2022-05-26T08:13:23.195089Z",
     "iopub.status.idle": "2022-05-26T08:13:23.281140Z",
     "shell.execute_reply": "2022-05-26T08:13:23.280078Z"
    },
    "papermill": {
     "duration": 0.095668,
     "end_time": "2022-05-26T08:13:23.283606",
     "exception": false,
     "start_time": "2022-05-26T08:13:23.187938",
     "status": "completed"
    },
    "tags": []
   },
   "outputs": [],
   "source": [
    "train_data = pd.read_csv('/kaggle/input/spaceshiptitanic/train.csv')\n",
    "test_data = pd.read_csv('/kaggle/input/spaceshiptitanic/test.csv')"
   ]
  },
  {
   "cell_type": "code",
   "execution_count": 3,
   "id": "d7011edc",
   "metadata": {
    "execution": {
     "iopub.execute_input": "2022-05-26T08:13:23.297441Z",
     "iopub.status.busy": "2022-05-26T08:13:23.296998Z",
     "iopub.status.idle": "2022-05-26T08:13:23.329202Z",
     "shell.execute_reply": "2022-05-26T08:13:23.328096Z"
    },
    "papermill": {
     "duration": 0.04199,
     "end_time": "2022-05-26T08:13:23.331759",
     "exception": false,
     "start_time": "2022-05-26T08:13:23.289769",
     "status": "completed"
    },
    "tags": []
   },
   "outputs": [
    {
     "data": {
      "text/html": [
       "<div>\n",
       "<style scoped>\n",
       "    .dataframe tbody tr th:only-of-type {\n",
       "        vertical-align: middle;\n",
       "    }\n",
       "\n",
       "    .dataframe tbody tr th {\n",
       "        vertical-align: top;\n",
       "    }\n",
       "\n",
       "    .dataframe thead th {\n",
       "        text-align: right;\n",
       "    }\n",
       "</style>\n",
       "<table border=\"1\" class=\"dataframe\">\n",
       "  <thead>\n",
       "    <tr style=\"text-align: right;\">\n",
       "      <th></th>\n",
       "      <th>PassengerId</th>\n",
       "      <th>HomePlanet</th>\n",
       "      <th>CryoSleep</th>\n",
       "      <th>Cabin</th>\n",
       "      <th>Destination</th>\n",
       "      <th>Age</th>\n",
       "      <th>VIP</th>\n",
       "      <th>RoomService</th>\n",
       "      <th>FoodCourt</th>\n",
       "      <th>ShoppingMall</th>\n",
       "      <th>Spa</th>\n",
       "      <th>VRDeck</th>\n",
       "      <th>Name</th>\n",
       "      <th>Transported</th>\n",
       "    </tr>\n",
       "  </thead>\n",
       "  <tbody>\n",
       "    <tr>\n",
       "      <th>0</th>\n",
       "      <td>0001_01</td>\n",
       "      <td>Europa</td>\n",
       "      <td>False</td>\n",
       "      <td>B/0/P</td>\n",
       "      <td>TRAPPIST-1e</td>\n",
       "      <td>39.0</td>\n",
       "      <td>False</td>\n",
       "      <td>0.0</td>\n",
       "      <td>0.0</td>\n",
       "      <td>0.0</td>\n",
       "      <td>0.0</td>\n",
       "      <td>0.0</td>\n",
       "      <td>Maham Ofracculy</td>\n",
       "      <td>False</td>\n",
       "    </tr>\n",
       "    <tr>\n",
       "      <th>1</th>\n",
       "      <td>0002_01</td>\n",
       "      <td>Earth</td>\n",
       "      <td>False</td>\n",
       "      <td>F/0/S</td>\n",
       "      <td>TRAPPIST-1e</td>\n",
       "      <td>24.0</td>\n",
       "      <td>False</td>\n",
       "      <td>109.0</td>\n",
       "      <td>9.0</td>\n",
       "      <td>25.0</td>\n",
       "      <td>549.0</td>\n",
       "      <td>44.0</td>\n",
       "      <td>Juanna Vines</td>\n",
       "      <td>True</td>\n",
       "    </tr>\n",
       "    <tr>\n",
       "      <th>2</th>\n",
       "      <td>0003_01</td>\n",
       "      <td>Europa</td>\n",
       "      <td>False</td>\n",
       "      <td>A/0/S</td>\n",
       "      <td>TRAPPIST-1e</td>\n",
       "      <td>58.0</td>\n",
       "      <td>True</td>\n",
       "      <td>43.0</td>\n",
       "      <td>3576.0</td>\n",
       "      <td>0.0</td>\n",
       "      <td>6715.0</td>\n",
       "      <td>49.0</td>\n",
       "      <td>Altark Susent</td>\n",
       "      <td>False</td>\n",
       "    </tr>\n",
       "    <tr>\n",
       "      <th>3</th>\n",
       "      <td>0003_02</td>\n",
       "      <td>Europa</td>\n",
       "      <td>False</td>\n",
       "      <td>A/0/S</td>\n",
       "      <td>TRAPPIST-1e</td>\n",
       "      <td>33.0</td>\n",
       "      <td>False</td>\n",
       "      <td>0.0</td>\n",
       "      <td>1283.0</td>\n",
       "      <td>371.0</td>\n",
       "      <td>3329.0</td>\n",
       "      <td>193.0</td>\n",
       "      <td>Solam Susent</td>\n",
       "      <td>False</td>\n",
       "    </tr>\n",
       "    <tr>\n",
       "      <th>4</th>\n",
       "      <td>0004_01</td>\n",
       "      <td>Earth</td>\n",
       "      <td>False</td>\n",
       "      <td>F/1/S</td>\n",
       "      <td>TRAPPIST-1e</td>\n",
       "      <td>16.0</td>\n",
       "      <td>False</td>\n",
       "      <td>303.0</td>\n",
       "      <td>70.0</td>\n",
       "      <td>151.0</td>\n",
       "      <td>565.0</td>\n",
       "      <td>2.0</td>\n",
       "      <td>Willy Santantines</td>\n",
       "      <td>True</td>\n",
       "    </tr>\n",
       "  </tbody>\n",
       "</table>\n",
       "</div>"
      ],
      "text/plain": [
       "  PassengerId HomePlanet CryoSleep  Cabin  Destination   Age    VIP  \\\n",
       "0     0001_01     Europa     False  B/0/P  TRAPPIST-1e  39.0  False   \n",
       "1     0002_01      Earth     False  F/0/S  TRAPPIST-1e  24.0  False   \n",
       "2     0003_01     Europa     False  A/0/S  TRAPPIST-1e  58.0   True   \n",
       "3     0003_02     Europa     False  A/0/S  TRAPPIST-1e  33.0  False   \n",
       "4     0004_01      Earth     False  F/1/S  TRAPPIST-1e  16.0  False   \n",
       "\n",
       "   RoomService  FoodCourt  ShoppingMall     Spa  VRDeck               Name  \\\n",
       "0          0.0        0.0           0.0     0.0     0.0    Maham Ofracculy   \n",
       "1        109.0        9.0          25.0   549.0    44.0       Juanna Vines   \n",
       "2         43.0     3576.0           0.0  6715.0    49.0      Altark Susent   \n",
       "3          0.0     1283.0         371.0  3329.0   193.0       Solam Susent   \n",
       "4        303.0       70.0         151.0   565.0     2.0  Willy Santantines   \n",
       "\n",
       "   Transported  \n",
       "0        False  \n",
       "1         True  \n",
       "2        False  \n",
       "3        False  \n",
       "4         True  "
      ]
     },
     "execution_count": 3,
     "metadata": {},
     "output_type": "execute_result"
    }
   ],
   "source": [
    "train_data.head()"
   ]
  },
  {
   "cell_type": "code",
   "execution_count": 4,
   "id": "062a70b4",
   "metadata": {
    "execution": {
     "iopub.execute_input": "2022-05-26T08:13:23.346443Z",
     "iopub.status.busy": "2022-05-26T08:13:23.346011Z",
     "iopub.status.idle": "2022-05-26T08:13:23.364259Z",
     "shell.execute_reply": "2022-05-26T08:13:23.363220Z"
    },
    "papermill": {
     "duration": 0.028352,
     "end_time": "2022-05-26T08:13:23.366596",
     "exception": false,
     "start_time": "2022-05-26T08:13:23.338244",
     "status": "completed"
    },
    "tags": []
   },
   "outputs": [
    {
     "data": {
      "text/plain": [
       "Age            -0.075026\n",
       "RoomService    -0.244611\n",
       "FoodCourt       0.046566\n",
       "ShoppingMall    0.010141\n",
       "Spa            -0.221131\n",
       "VRDeck         -0.207075\n",
       "Transported     1.000000\n",
       "Name: Transported, dtype: float64"
      ]
     },
     "execution_count": 4,
     "metadata": {},
     "output_type": "execute_result"
    }
   ],
   "source": [
    "train_data.corr()['Transported']"
   ]
  },
  {
   "cell_type": "code",
   "execution_count": 5,
   "id": "88f8379f",
   "metadata": {
    "execution": {
     "iopub.execute_input": "2022-05-26T08:13:23.381900Z",
     "iopub.status.busy": "2022-05-26T08:13:23.381269Z",
     "iopub.status.idle": "2022-05-26T08:13:23.392893Z",
     "shell.execute_reply": "2022-05-26T08:13:23.392054Z"
    },
    "papermill": {
     "duration": 0.021784,
     "end_time": "2022-05-26T08:13:23.395008",
     "exception": false,
     "start_time": "2022-05-26T08:13:23.373224",
     "status": "completed"
    },
    "tags": []
   },
   "outputs": [
    {
     "data": {
      "text/plain": [
       "6560"
      ]
     },
     "execution_count": 5,
     "metadata": {},
     "output_type": "execute_result"
    }
   ],
   "source": [
    "train_data['Cabin'].nunique()"
   ]
  },
  {
   "cell_type": "code",
   "execution_count": 6,
   "id": "3900da5d",
   "metadata": {
    "execution": {
     "iopub.execute_input": "2022-05-26T08:13:23.410603Z",
     "iopub.status.busy": "2022-05-26T08:13:23.409551Z",
     "iopub.status.idle": "2022-05-26T08:13:23.447098Z",
     "shell.execute_reply": "2022-05-26T08:13:23.446075Z"
    },
    "papermill": {
     "duration": 0.047526,
     "end_time": "2022-05-26T08:13:23.449330",
     "exception": false,
     "start_time": "2022-05-26T08:13:23.401804",
     "status": "completed"
    },
    "tags": []
   },
   "outputs": [
    {
     "data": {
      "text/plain": [
       "HomePlanet_Earth            -0.168240\n",
       "HomePlanet_Europa            0.176399\n",
       "HomePlanet_Mars              0.019765\n",
       "CryoSleep_False             -0.450897\n",
       "CryoSleep_True               0.459296\n",
       "Destination_55 Cancri e      0.108094\n",
       "Destination_PSO J318.5-22    0.000124\n",
       "Destination_TRAPPIST-1e     -0.093429\n",
       "VIP_False                    0.024502\n",
       "VIP_True                    -0.036973\n",
       "Age                         -0.075026\n",
       "Transported                  1.000000\n",
       "Name: Transported, dtype: float64"
      ]
     },
     "execution_count": 6,
     "metadata": {},
     "output_type": "execute_result"
    }
   ],
   "source": [
    "features = ['HomePlanet','CryoSleep','Destination','VIP']\n",
    "train_data = train_data.dropna(subset=['Age'])\n",
    "X = pd.get_dummies(train_data[features])\n",
    "X = pd.concat([X,train_data['Age']],axis=1)\n",
    "y = train_data['Transported']\n",
    "data = pd.concat([X,y],axis=1)\n",
    "data.corr()['Transported']"
   ]
  },
  {
   "cell_type": "code",
   "execution_count": 7,
   "id": "ef260c04",
   "metadata": {
    "execution": {
     "iopub.execute_input": "2022-05-26T08:13:23.465234Z",
     "iopub.status.busy": "2022-05-26T08:13:23.464818Z",
     "iopub.status.idle": "2022-05-26T08:13:23.487950Z",
     "shell.execute_reply": "2022-05-26T08:13:23.487019Z"
    },
    "papermill": {
     "duration": 0.033765,
     "end_time": "2022-05-26T08:13:23.490051",
     "exception": false,
     "start_time": "2022-05-26T08:13:23.456286",
     "status": "completed"
    },
    "tags": []
   },
   "outputs": [
    {
     "data": {
      "text/html": [
       "<div>\n",
       "<style scoped>\n",
       "    .dataframe tbody tr th:only-of-type {\n",
       "        vertical-align: middle;\n",
       "    }\n",
       "\n",
       "    .dataframe tbody tr th {\n",
       "        vertical-align: top;\n",
       "    }\n",
       "\n",
       "    .dataframe thead th {\n",
       "        text-align: right;\n",
       "    }\n",
       "</style>\n",
       "<table border=\"1\" class=\"dataframe\">\n",
       "  <thead>\n",
       "    <tr style=\"text-align: right;\">\n",
       "      <th></th>\n",
       "      <th>HomePlanet_Earth</th>\n",
       "      <th>HomePlanet_Europa</th>\n",
       "      <th>HomePlanet_Mars</th>\n",
       "      <th>CryoSleep_False</th>\n",
       "      <th>CryoSleep_True</th>\n",
       "      <th>Destination_55 Cancri e</th>\n",
       "      <th>Destination_PSO J318.5-22</th>\n",
       "      <th>Destination_TRAPPIST-1e</th>\n",
       "      <th>VIP_False</th>\n",
       "      <th>VIP_True</th>\n",
       "      <th>Age</th>\n",
       "    </tr>\n",
       "  </thead>\n",
       "  <tbody>\n",
       "    <tr>\n",
       "      <th>0</th>\n",
       "      <td>1</td>\n",
       "      <td>0</td>\n",
       "      <td>0</td>\n",
       "      <td>0</td>\n",
       "      <td>1</td>\n",
       "      <td>0</td>\n",
       "      <td>0</td>\n",
       "      <td>1</td>\n",
       "      <td>1</td>\n",
       "      <td>0</td>\n",
       "      <td>27.0</td>\n",
       "    </tr>\n",
       "    <tr>\n",
       "      <th>1</th>\n",
       "      <td>1</td>\n",
       "      <td>0</td>\n",
       "      <td>0</td>\n",
       "      <td>1</td>\n",
       "      <td>0</td>\n",
       "      <td>0</td>\n",
       "      <td>0</td>\n",
       "      <td>1</td>\n",
       "      <td>1</td>\n",
       "      <td>0</td>\n",
       "      <td>19.0</td>\n",
       "    </tr>\n",
       "    <tr>\n",
       "      <th>2</th>\n",
       "      <td>0</td>\n",
       "      <td>1</td>\n",
       "      <td>0</td>\n",
       "      <td>0</td>\n",
       "      <td>1</td>\n",
       "      <td>1</td>\n",
       "      <td>0</td>\n",
       "      <td>0</td>\n",
       "      <td>1</td>\n",
       "      <td>0</td>\n",
       "      <td>31.0</td>\n",
       "    </tr>\n",
       "    <tr>\n",
       "      <th>3</th>\n",
       "      <td>0</td>\n",
       "      <td>1</td>\n",
       "      <td>0</td>\n",
       "      <td>1</td>\n",
       "      <td>0</td>\n",
       "      <td>0</td>\n",
       "      <td>0</td>\n",
       "      <td>1</td>\n",
       "      <td>1</td>\n",
       "      <td>0</td>\n",
       "      <td>38.0</td>\n",
       "    </tr>\n",
       "    <tr>\n",
       "      <th>4</th>\n",
       "      <td>1</td>\n",
       "      <td>0</td>\n",
       "      <td>0</td>\n",
       "      <td>1</td>\n",
       "      <td>0</td>\n",
       "      <td>0</td>\n",
       "      <td>0</td>\n",
       "      <td>1</td>\n",
       "      <td>1</td>\n",
       "      <td>0</td>\n",
       "      <td>20.0</td>\n",
       "    </tr>\n",
       "  </tbody>\n",
       "</table>\n",
       "</div>"
      ],
      "text/plain": [
       "   HomePlanet_Earth  HomePlanet_Europa  HomePlanet_Mars  CryoSleep_False  \\\n",
       "0                 1                  0                0                0   \n",
       "1                 1                  0                0                1   \n",
       "2                 0                  1                0                0   \n",
       "3                 0                  1                0                1   \n",
       "4                 1                  0                0                1   \n",
       "\n",
       "   CryoSleep_True  Destination_55 Cancri e  Destination_PSO J318.5-22  \\\n",
       "0               1                        0                          0   \n",
       "1               0                        0                          0   \n",
       "2               1                        1                          0   \n",
       "3               0                        0                          0   \n",
       "4               0                        0                          0   \n",
       "\n",
       "   Destination_TRAPPIST-1e  VIP_False  VIP_True   Age  \n",
       "0                        1          1         0  27.0  \n",
       "1                        1          1         0  19.0  \n",
       "2                        0          1         0  31.0  \n",
       "3                        1          1         0  38.0  \n",
       "4                        1          1         0  20.0  "
      ]
     },
     "execution_count": 7,
     "metadata": {},
     "output_type": "execute_result"
    }
   ],
   "source": [
    "x_test = pd.concat([pd.get_dummies(test_data[features]),test_data['Age']],axis=1)\n",
    "x_test.head()"
   ]
  },
  {
   "cell_type": "code",
   "execution_count": 8,
   "id": "360a22e1",
   "metadata": {
    "execution": {
     "iopub.execute_input": "2022-05-26T08:13:23.506113Z",
     "iopub.status.busy": "2022-05-26T08:13:23.505388Z",
     "iopub.status.idle": "2022-05-26T08:13:24.772297Z",
     "shell.execute_reply": "2022-05-26T08:13:24.771333Z"
    },
    "papermill": {
     "duration": 1.2778,
     "end_time": "2022-05-26T08:13:24.774861",
     "exception": false,
     "start_time": "2022-05-26T08:13:23.497061",
     "status": "completed"
    },
    "tags": []
   },
   "outputs": [],
   "source": [
    "from sklearn.model_selection import train_test_split\n",
    "X_train,X_test,y_train,y_test = train_test_split(X,y,test_size=0.20, random_state=101)"
   ]
  },
  {
   "cell_type": "code",
   "execution_count": 9,
   "id": "a2723e55",
   "metadata": {
    "execution": {
     "iopub.execute_input": "2022-05-26T08:13:24.791364Z",
     "iopub.status.busy": "2022-05-26T08:13:24.790966Z",
     "iopub.status.idle": "2022-05-26T08:13:24.797660Z",
     "shell.execute_reply": "2022-05-26T08:13:24.796752Z"
    },
    "papermill": {
     "duration": 0.01712,
     "end_time": "2022-05-26T08:13:24.799663",
     "exception": false,
     "start_time": "2022-05-26T08:13:24.782543",
     "status": "completed"
    },
    "tags": []
   },
   "outputs": [
    {
     "data": {
      "text/plain": [
       "(6811, 11)"
      ]
     },
     "execution_count": 9,
     "metadata": {},
     "output_type": "execute_result"
    }
   ],
   "source": [
    "X_train.shape"
   ]
  },
  {
   "cell_type": "code",
   "execution_count": 10,
   "id": "50586993",
   "metadata": {
    "execution": {
     "iopub.execute_input": "2022-05-26T08:13:24.815699Z",
     "iopub.status.busy": "2022-05-26T08:13:24.815279Z",
     "iopub.status.idle": "2022-05-26T08:14:32.303243Z",
     "shell.execute_reply": "2022-05-26T08:14:32.301777Z"
    },
    "papermill": {
     "duration": 67.498705,
     "end_time": "2022-05-26T08:14:32.305602",
     "exception": false,
     "start_time": "2022-05-26T08:13:24.806897",
     "status": "completed"
    },
    "tags": []
   },
   "outputs": [
    {
     "name": "stderr",
     "output_type": "stream",
     "text": [
      "2022-05-26 08:13:31.614914: I tensorflow/core/common_runtime/process_util.cc:146] Creating new thread pool with default inter op setting: 2. Tune using inter_op_parallelism_threads for best performance.\n",
      "2022-05-26 08:13:31.757247: I tensorflow/compiler/mlir/mlir_graph_optimization_pass.cc:185] None of the MLIR Optimization Passes are enabled (registered 2)\n"
     ]
    },
    {
     "name": "stdout",
     "output_type": "stream",
     "text": [
      "Epoch 1/200\n",
      "213/213 [==============================] - 2s 4ms/step - loss: 0.7052 - val_loss: 0.6881\n",
      "Epoch 2/200\n",
      "213/213 [==============================] - 1s 3ms/step - loss: 0.6650 - val_loss: 0.6200\n",
      "Epoch 3/200\n",
      "213/213 [==============================] - 1s 2ms/step - loss: 0.5925 - val_loss: 0.5634\n",
      "Epoch 4/200\n",
      "213/213 [==============================] - 1s 3ms/step - loss: 0.5691 - val_loss: 0.5522\n",
      "Epoch 5/200\n",
      "213/213 [==============================] - 1s 2ms/step - loss: 0.5624 - val_loss: 0.5491\n",
      "Epoch 6/200\n",
      "213/213 [==============================] - 1s 3ms/step - loss: 0.5583 - val_loss: 0.5434\n",
      "Epoch 7/200\n",
      "213/213 [==============================] - 1s 3ms/step - loss: 0.5548 - val_loss: 0.5444\n",
      "Epoch 8/200\n",
      "213/213 [==============================] - 1s 3ms/step - loss: 0.5515 - val_loss: 0.5402\n",
      "Epoch 9/200\n",
      "213/213 [==============================] - 1s 2ms/step - loss: 0.5503 - val_loss: 0.5373\n",
      "Epoch 10/200\n",
      "213/213 [==============================] - 1s 3ms/step - loss: 0.5491 - val_loss: 0.5348\n",
      "Epoch 11/200\n",
      "213/213 [==============================] - 1s 2ms/step - loss: 0.5480 - val_loss: 0.5348\n",
      "Epoch 12/200\n",
      "213/213 [==============================] - 1s 2ms/step - loss: 0.5455 - val_loss: 0.5326\n",
      "Epoch 13/200\n",
      "213/213 [==============================] - 1s 2ms/step - loss: 0.5438 - val_loss: 0.5309\n",
      "Epoch 14/200\n",
      "213/213 [==============================] - 1s 3ms/step - loss: 0.5405 - val_loss: 0.5299\n",
      "Epoch 15/200\n",
      "213/213 [==============================] - 1s 3ms/step - loss: 0.5400 - val_loss: 0.5286\n",
      "Epoch 16/200\n",
      "213/213 [==============================] - 1s 2ms/step - loss: 0.5383 - val_loss: 0.5273\n",
      "Epoch 17/200\n",
      "213/213 [==============================] - 1s 2ms/step - loss: 0.5371 - val_loss: 0.5252\n",
      "Epoch 18/200\n",
      "213/213 [==============================] - 1s 3ms/step - loss: 0.5366 - val_loss: 0.5269\n",
      "Epoch 19/200\n",
      "213/213 [==============================] - 1s 3ms/step - loss: 0.5349 - val_loss: 0.5228\n",
      "Epoch 20/200\n",
      "213/213 [==============================] - 1s 2ms/step - loss: 0.5341 - val_loss: 0.5241\n",
      "Epoch 21/200\n",
      "213/213 [==============================] - 1s 3ms/step - loss: 0.5334 - val_loss: 0.5216\n",
      "Epoch 22/200\n",
      "213/213 [==============================] - 1s 2ms/step - loss: 0.5328 - val_loss: 0.5211\n",
      "Epoch 23/200\n",
      "213/213 [==============================] - 1s 3ms/step - loss: 0.5326 - val_loss: 0.5252\n",
      "Epoch 24/200\n",
      "213/213 [==============================] - 1s 2ms/step - loss: 0.5329 - val_loss: 0.5201\n",
      "Epoch 25/200\n",
      "213/213 [==============================] - 1s 2ms/step - loss: 0.5316 - val_loss: 0.5201\n",
      "Epoch 26/200\n",
      "213/213 [==============================] - 1s 4ms/step - loss: 0.5316 - val_loss: 0.5196\n",
      "Epoch 27/200\n",
      "213/213 [==============================] - 1s 3ms/step - loss: 0.5310 - val_loss: 0.5182\n",
      "Epoch 28/200\n",
      "213/213 [==============================] - 1s 2ms/step - loss: 0.5306 - val_loss: 0.5187\n",
      "Epoch 29/200\n",
      "213/213 [==============================] - 1s 2ms/step - loss: 0.5307 - val_loss: 0.5299\n",
      "Epoch 30/200\n",
      "213/213 [==============================] - 1s 2ms/step - loss: 0.5315 - val_loss: 0.5198\n",
      "Epoch 31/200\n",
      "213/213 [==============================] - 1s 2ms/step - loss: 0.5299 - val_loss: 0.5180\n",
      "Epoch 32/200\n",
      "213/213 [==============================] - 1s 3ms/step - loss: 0.5295 - val_loss: 0.5168\n",
      "Epoch 33/200\n",
      "213/213 [==============================] - 1s 3ms/step - loss: 0.5297 - val_loss: 0.5213\n",
      "Epoch 34/200\n",
      "213/213 [==============================] - 1s 2ms/step - loss: 0.5296 - val_loss: 0.5159\n",
      "Epoch 35/200\n",
      "213/213 [==============================] - 1s 2ms/step - loss: 0.5295 - val_loss: 0.5160\n",
      "Epoch 36/200\n",
      "213/213 [==============================] - 1s 2ms/step - loss: 0.5289 - val_loss: 0.5170\n",
      "Epoch 37/200\n",
      "213/213 [==============================] - 1s 2ms/step - loss: 0.5283 - val_loss: 0.5246\n",
      "Epoch 38/200\n",
      "213/213 [==============================] - 1s 2ms/step - loss: 0.5293 - val_loss: 0.5194\n",
      "Epoch 39/200\n",
      "213/213 [==============================] - 1s 3ms/step - loss: 0.5268 - val_loss: 0.5189\n",
      "Epoch 40/200\n",
      "213/213 [==============================] - 1s 2ms/step - loss: 0.5279 - val_loss: 0.5160\n",
      "Epoch 41/200\n",
      "213/213 [==============================] - 1s 3ms/step - loss: 0.5274 - val_loss: 0.5170\n",
      "Epoch 42/200\n",
      "213/213 [==============================] - 1s 2ms/step - loss: 0.5271 - val_loss: 0.5185\n",
      "Epoch 43/200\n",
      "213/213 [==============================] - 1s 3ms/step - loss: 0.5272 - val_loss: 0.5151\n",
      "Epoch 44/200\n",
      "213/213 [==============================] - 1s 3ms/step - loss: 0.5262 - val_loss: 0.5153\n",
      "Epoch 45/200\n",
      "213/213 [==============================] - 1s 2ms/step - loss: 0.5270 - val_loss: 0.5188\n",
      "Epoch 46/200\n",
      "213/213 [==============================] - 1s 2ms/step - loss: 0.5267 - val_loss: 0.5146\n",
      "Epoch 47/200\n",
      "213/213 [==============================] - 1s 2ms/step - loss: 0.5266 - val_loss: 0.5160\n",
      "Epoch 48/200\n",
      "213/213 [==============================] - 1s 2ms/step - loss: 0.5266 - val_loss: 0.5187\n",
      "Epoch 49/200\n",
      "213/213 [==============================] - 1s 3ms/step - loss: 0.5260 - val_loss: 0.5167\n",
      "Epoch 50/200\n",
      "213/213 [==============================] - 1s 3ms/step - loss: 0.5265 - val_loss: 0.5179\n",
      "Epoch 51/200\n",
      "213/213 [==============================] - 1s 3ms/step - loss: 0.5264 - val_loss: 0.5145\n",
      "Epoch 52/200\n",
      "213/213 [==============================] - 1s 3ms/step - loss: 0.5264 - val_loss: 0.5150\n",
      "Epoch 53/200\n",
      "213/213 [==============================] - 1s 3ms/step - loss: 0.5271 - val_loss: 0.5156\n",
      "Epoch 54/200\n",
      "213/213 [==============================] - 1s 3ms/step - loss: 0.5267 - val_loss: 0.5170\n",
      "Epoch 55/200\n",
      "213/213 [==============================] - 1s 2ms/step - loss: 0.5263 - val_loss: 0.5167\n",
      "Epoch 56/200\n",
      "213/213 [==============================] - 1s 2ms/step - loss: 0.5255 - val_loss: 0.5155\n",
      "Epoch 57/200\n",
      "213/213 [==============================] - 1s 2ms/step - loss: 0.5255 - val_loss: 0.5206\n",
      "Epoch 58/200\n",
      "213/213 [==============================] - 1s 2ms/step - loss: 0.5254 - val_loss: 0.5169\n",
      "Epoch 59/200\n",
      "213/213 [==============================] - 1s 3ms/step - loss: 0.5257 - val_loss: 0.5156\n",
      "Epoch 60/200\n",
      "213/213 [==============================] - 1s 2ms/step - loss: 0.5268 - val_loss: 0.5178\n",
      "Epoch 61/200\n",
      "213/213 [==============================] - 1s 3ms/step - loss: 0.5262 - val_loss: 0.5182\n",
      "Epoch 62/200\n",
      "213/213 [==============================] - 1s 3ms/step - loss: 0.5252 - val_loss: 0.5173\n",
      "Epoch 63/200\n",
      "213/213 [==============================] - 1s 3ms/step - loss: 0.5247 - val_loss: 0.5172\n",
      "Epoch 64/200\n",
      "213/213 [==============================] - 1s 3ms/step - loss: 0.5254 - val_loss: 0.5158\n",
      "Epoch 65/200\n",
      "213/213 [==============================] - 1s 3ms/step - loss: 0.5251 - val_loss: 0.5195\n",
      "Epoch 66/200\n",
      "213/213 [==============================] - 1s 3ms/step - loss: 0.5257 - val_loss: 0.5142\n",
      "Epoch 67/200\n",
      "213/213 [==============================] - 1s 3ms/step - loss: 0.5254 - val_loss: 0.5142\n",
      "Epoch 68/200\n",
      "213/213 [==============================] - 1s 3ms/step - loss: 0.5253 - val_loss: 0.5155\n",
      "Epoch 69/200\n",
      "213/213 [==============================] - 1s 3ms/step - loss: 0.5248 - val_loss: 0.5163\n",
      "Epoch 70/200\n",
      "213/213 [==============================] - 1s 3ms/step - loss: 0.5248 - val_loss: 0.5187\n",
      "Epoch 71/200\n",
      "213/213 [==============================] - 1s 2ms/step - loss: 0.5245 - val_loss: 0.5187\n",
      "Epoch 72/200\n",
      "213/213 [==============================] - 1s 2ms/step - loss: 0.5257 - val_loss: 0.5162\n",
      "Epoch 73/200\n",
      "213/213 [==============================] - 1s 2ms/step - loss: 0.5250 - val_loss: 0.5170\n",
      "Epoch 74/200\n",
      "213/213 [==============================] - 1s 2ms/step - loss: 0.5252 - val_loss: 0.5165\n",
      "Epoch 75/200\n",
      "213/213 [==============================] - 1s 2ms/step - loss: 0.5244 - val_loss: 0.5167\n",
      "Epoch 76/200\n",
      "213/213 [==============================] - 1s 2ms/step - loss: 0.5246 - val_loss: 0.5167\n",
      "Epoch 77/200\n",
      "213/213 [==============================] - 1s 2ms/step - loss: 0.5248 - val_loss: 0.5155\n",
      "Epoch 78/200\n",
      "213/213 [==============================] - 1s 2ms/step - loss: 0.5237 - val_loss: 0.5151\n",
      "Epoch 79/200\n",
      "213/213 [==============================] - 1s 2ms/step - loss: 0.5239 - val_loss: 0.5146\n",
      "Epoch 80/200\n",
      "213/213 [==============================] - 1s 2ms/step - loss: 0.5245 - val_loss: 0.5159\n",
      "Epoch 81/200\n",
      "213/213 [==============================] - 0s 2ms/step - loss: 0.5242 - val_loss: 0.5159\n",
      "Epoch 82/200\n",
      "213/213 [==============================] - 1s 3ms/step - loss: 0.5245 - val_loss: 0.5148\n",
      "Epoch 83/200\n",
      "213/213 [==============================] - 1s 2ms/step - loss: 0.5247 - val_loss: 0.5152\n",
      "Epoch 84/200\n",
      "213/213 [==============================] - 1s 2ms/step - loss: 0.5243 - val_loss: 0.5141\n",
      "Epoch 85/200\n",
      "213/213 [==============================] - 1s 4ms/step - loss: 0.5253 - val_loss: 0.5150\n",
      "Epoch 86/200\n",
      "213/213 [==============================] - 1s 3ms/step - loss: 0.5235 - val_loss: 0.5192\n",
      "Epoch 87/200\n",
      "213/213 [==============================] - 1s 3ms/step - loss: 0.5245 - val_loss: 0.5149\n",
      "Epoch 88/200\n",
      "213/213 [==============================] - 1s 3ms/step - loss: 0.5239 - val_loss: 0.5142\n",
      "Epoch 89/200\n",
      "213/213 [==============================] - 1s 2ms/step - loss: 0.5247 - val_loss: 0.5154\n",
      "Epoch 90/200\n",
      "213/213 [==============================] - 1s 3ms/step - loss: 0.5238 - val_loss: 0.5158\n",
      "Epoch 91/200\n",
      "213/213 [==============================] - 1s 3ms/step - loss: 0.5249 - val_loss: 0.5153\n",
      "Epoch 92/200\n",
      "213/213 [==============================] - 1s 2ms/step - loss: 0.5238 - val_loss: 0.5142\n",
      "Epoch 93/200\n",
      "213/213 [==============================] - 1s 2ms/step - loss: 0.5242 - val_loss: 0.5159\n",
      "Epoch 94/200\n",
      "213/213 [==============================] - 1s 3ms/step - loss: 0.5245 - val_loss: 0.5147\n",
      "Epoch 95/200\n",
      "213/213 [==============================] - 1s 2ms/step - loss: 0.5231 - val_loss: 0.5252\n",
      "Epoch 96/200\n",
      "213/213 [==============================] - 1s 3ms/step - loss: 0.5240 - val_loss: 0.5181\n",
      "Epoch 97/200\n",
      "213/213 [==============================] - 1s 3ms/step - loss: 0.5240 - val_loss: 0.5169\n",
      "Epoch 98/200\n",
      "213/213 [==============================] - 1s 2ms/step - loss: 0.5243 - val_loss: 0.5145\n",
      "Epoch 99/200\n",
      "213/213 [==============================] - 1s 2ms/step - loss: 0.5231 - val_loss: 0.5191\n",
      "Epoch 100/200\n",
      "213/213 [==============================] - 1s 2ms/step - loss: 0.5237 - val_loss: 0.5161\n",
      "Epoch 101/200\n",
      "213/213 [==============================] - 1s 3ms/step - loss: 0.5239 - val_loss: 0.5170\n",
      "Epoch 102/200\n",
      "213/213 [==============================] - 1s 2ms/step - loss: 0.5239 - val_loss: 0.5150\n",
      "Epoch 103/200\n",
      "213/213 [==============================] - 1s 2ms/step - loss: 0.5233 - val_loss: 0.5148\n",
      "Epoch 104/200\n",
      "213/213 [==============================] - 1s 2ms/step - loss: 0.5228 - val_loss: 0.5148\n",
      "Epoch 105/200\n",
      "213/213 [==============================] - 1s 2ms/step - loss: 0.5234 - val_loss: 0.5168\n",
      "Epoch 106/200\n",
      "213/213 [==============================] - 1s 2ms/step - loss: 0.5231 - val_loss: 0.5151\n",
      "Epoch 107/200\n",
      "213/213 [==============================] - 1s 2ms/step - loss: 0.5229 - val_loss: 0.5153\n",
      "Epoch 108/200\n",
      "213/213 [==============================] - 1s 2ms/step - loss: 0.5233 - val_loss: 0.5159\n",
      "Epoch 109/200\n",
      "213/213 [==============================] - 1s 2ms/step - loss: 0.5231 - val_loss: 0.5145\n",
      "Epoch 00109: early stopping\n"
     ]
    },
    {
     "data": {
      "text/plain": [
       "<keras.callbacks.History at 0x7efe81b3b590>"
      ]
     },
     "execution_count": 10,
     "metadata": {},
     "output_type": "execute_result"
    }
   ],
   "source": [
    "import tensorflow as tf\n",
    "from tensorflow.keras.models import Sequential\n",
    "from tensorflow.keras.layers import Activation,Dense,Dropout\n",
    "model = Sequential()\n",
    "model.add(Dense(100,activation='sigmoid'))\n",
    "model.add(Dense(25,activation='sigmoid'))\n",
    "model.add(Dense(6,activation='sigmoid'))\n",
    "\n",
    "model.add(Dense(1,activation='sigmoid'))\n",
    "model.compile(loss='binary_crossentropy', optimizer='adam')\n",
    "from tensorflow.keras.callbacks import EarlyStopping\n",
    "early_stop = EarlyStopping(monitor='val_loss', mode='min', verbose=1, patience=25)\n",
    "model.fit(x=X_train,y=y_train,epochs=200,validation_data=(X_test, y_test),callbacks=(early_stop))\n"
   ]
  },
  {
   "cell_type": "code",
   "execution_count": 11,
   "id": "190f413a",
   "metadata": {
    "execution": {
     "iopub.execute_input": "2022-05-26T08:14:32.475241Z",
     "iopub.status.busy": "2022-05-26T08:14:32.474487Z",
     "iopub.status.idle": "2022-05-26T08:14:54.769972Z",
     "shell.execute_reply": "2022-05-26T08:14:54.768121Z"
    },
    "papermill": {
     "duration": 22.382493,
     "end_time": "2022-05-26T08:14:54.772421",
     "exception": false,
     "start_time": "2022-05-26T08:14:32.389928",
     "status": "completed"
    },
    "tags": []
   },
   "outputs": [
    {
     "data": {
      "text/plain": [
       "<AxesSubplot:>"
      ]
     },
     "execution_count": 11,
     "metadata": {},
     "output_type": "execute_result"
    },
    {
     "data": {
      "image/png": "[encoded data removed]",
      "text/plain": [
       "<Figure size 432x288 with 1 Axes>"
      ]
     },
     "metadata": {
      "needs_background": "light"
     },
     "output_type": "display_data"
    }
   ],
   "source": [
    "import matplotlib.pyplot as plt\n",
    "import seaborn as sns\n",
    "losses = pd.DataFrame(model.history.history)\n",
    "losses[['loss','val_loss']].plot()\n",
    "#losses[['loss']].plot()"
   ]
  },
  {
   "cell_type": "code",
   "execution_count": 12,
   "id": "da39a7d4",
   "metadata": {
    "execution": {
     "iopub.execute_input": "2022-05-26T08:14:54.942468Z",
     "iopub.status.busy": "2022-05-26T08:14:54.941401Z",
     "iopub.status.idle": "2022-05-26T08:14:54.948488Z",
     "shell.execute_reply": "2022-05-26T08:14:54.947576Z"
    },
    "papermill": {
     "duration": 0.094138,
     "end_time": "2022-05-26T08:14:54.950671",
     "exception": false,
     "start_time": "2022-05-26T08:14:54.856533",
     "status": "completed"
    },
    "tags": []
   },
   "outputs": [
    {
     "data": {
      "text/plain": [
       "'\\nfrom xgboost import XGBRegressor\\n\\n\\nmy_model = XGBRegressor(n_estimators=10000, learning_rate=0.05)\\nmy_model.fit(X_train, y_train, \\n             early_stopping_rounds=20, \\n             eval_set=[(X_test, y_test)],\\n             verbose=False)\\npred = my_model.predict(X_test)>0.5\\npred\\n\\n'"
      ]
     },
     "execution_count": 12,
     "metadata": {},
     "output_type": "execute_result"
    }
   ],
   "source": [
    "\"\"\"\n",
    "from xgboost import XGBRegressor\n",
    "\n",
    "\n",
    "my_model = XGBRegressor(n_estimators=10000, learning_rate=0.05)\n",
    "my_model.fit(X_train, y_train, \n",
    "             early_stopping_rounds=20, \n",
    "             eval_set=[(X_test, y_test)],\n",
    "             verbose=False)\n",
    "pred = my_model.predict(X_test)>0.5\n",
    "pred\n",
    "\n",
    "\"\"\""
   ]
  },
  {
   "cell_type": "code",
   "execution_count": 13,
   "id": "5afcbee0",
   "metadata": {
    "execution": {
     "iopub.execute_input": "2022-05-26T08:14:55.121236Z",
     "iopub.status.busy": "2022-05-26T08:14:55.120492Z",
     "iopub.status.idle": "2022-05-26T08:14:55.126324Z",
     "shell.execute_reply": "2022-05-26T08:14:55.125582Z"
    },
    "papermill": {
     "duration": 0.092915,
     "end_time": "2022-05-26T08:14:55.128229",
     "exception": false,
     "start_time": "2022-05-26T08:14:55.035314",
     "status": "completed"
    },
    "tags": []
   },
   "outputs": [
    {
     "data": {
      "text/plain": [
       "'\\nfrom sklearn.metrics import accuracy_score\\naccuracy_score(y_test, pred)\\n\\n'"
      ]
     },
     "execution_count": 13,
     "metadata": {},
     "output_type": "execute_result"
    }
   ],
   "source": [
    "\"\"\"\n",
    "from sklearn.metrics import accuracy_score\n",
    "accuracy_score(y_test, pred)\n",
    "\n",
    "\"\"\""
   ]
  },
  {
   "cell_type": "code",
   "execution_count": 14,
   "id": "e6c24ded",
   "metadata": {
    "execution": {
     "iopub.execute_input": "2022-05-26T08:14:55.298024Z",
     "iopub.status.busy": "2022-05-26T08:14:55.297147Z",
     "iopub.status.idle": "2022-05-26T08:14:55.581715Z",
     "shell.execute_reply": "2022-05-26T08:14:55.580763Z"
    },
    "papermill": {
     "duration": 0.371788,
     "end_time": "2022-05-26T08:14:55.583624",
     "exception": false,
     "start_time": "2022-05-26T08:14:55.211836",
     "status": "completed"
    },
    "tags": []
   },
   "outputs": [
    {
     "data": {
      "text/plain": [
       "array([ True, False,  True, ..., False, False,  True])"
      ]
     },
     "execution_count": 14,
     "metadata": {},
     "output_type": "execute_result"
    }
   ],
   "source": [
    "predictions = model.predict(x_test)>0.5\n",
    "\n",
    "predictions = predictions.reshape(predictions.shape[0]*predictions.shape[1])\n",
    "predictions\n"
   ]
  },
  {
   "cell_type": "code",
   "execution_count": 15,
   "id": "5367c62d",
   "metadata": {
    "execution": {
     "iopub.execute_input": "2022-05-26T08:14:55.754932Z",
     "iopub.status.busy": "2022-05-26T08:14:55.754264Z",
     "iopub.status.idle": "2022-05-26T08:14:55.773107Z",
     "shell.execute_reply": "2022-05-26T08:14:55.771853Z"
    },
    "papermill": {
     "duration": 0.107707,
     "end_time": "2022-05-26T08:14:55.775828",
     "exception": false,
     "start_time": "2022-05-26T08:14:55.668121",
     "status": "completed"
    },
    "tags": []
   },
   "outputs": [
    {
     "name": "stdout",
     "output_type": "stream",
     "text": [
      "Your submission was successfully saved!\n"
     ]
    }
   ],
   "source": [
    "output = pd.DataFrame({'PassengerId': test_data.PassengerId, 'Transported': predictions})\n",
    "output.to_csv('my_submission.csv', index=False)\n",
    "print(\"Your submission was successfully saved!\")"
   ]
  },
  {
   "cell_type": "code",
   "execution_count": null,
   "id": "878ce072",
   "metadata": {
    "papermill": {
     "duration": 0.084853,
     "end_time": "2022-05-26T08:14:55.947221",
     "exception": false,
     "start_time": "2022-05-26T08:14:55.862368",
     "status": "completed"
    },
    "tags": []
   },
   "outputs": [],
   "source": []
  },
  {
   "cell_type": "code",
   "execution_count": null,
   "id": "46ae1132",
   "metadata": {
    "papermill": {
     "duration": 0.084518,
     "end_time": "2022-05-26T08:14:56.116326",
     "exception": false,
     "start_time": "2022-05-26T08:14:56.031808",
     "status": "completed"
    },
    "tags": []
   },
   "outputs": [],
   "source": []
  },
  {
   "cell_type": "code",
   "execution_count": null,
   "id": "5d658efd",
   "metadata": {
    "papermill": {
     "duration": 0.08538,
     "end_time": "2022-05-26T08:14:56.287351",
     "exception": false,
     "start_time": "2022-05-26T08:14:56.201971",
     "status": "completed"
    },
    "tags": []
   },
   "outputs": [],
   "source": []
  },
  {
   "cell_type": "code",
   "execution_count": null,
   "id": "5477e234",
   "metadata": {
    "papermill": {
     "duration": 0.084398,
     "end_time": "2022-05-26T08:14:56.458762",
     "exception": false,
     "start_time": "2022-05-26T08:14:56.374364",
     "status": "completed"
    },
    "tags": []
   },
   "outputs": [],
   "source": []
  },
  {
   "cell_type": "code",
   "execution_count": null,
   "id": "6e198bc6",
   "metadata": {
    "papermill": {
     "duration": 0.085173,
     "end_time": "2022-05-26T08:14:56.629014",
     "exception": false,
     "start_time": "2022-05-26T08:14:56.543841",
     "status": "completed"
    },
    "tags": []
   },
   "outputs": [],
   "source": []
  },
  {
   "cell_type": "code",
   "execution_count": null,
   "id": "730ca564",
   "metadata": {
    "papermill": {
     "duration": 0.083703,
     "end_time": "2022-05-26T08:14:56.797757",
     "exception": false,
     "start_time": "2022-05-26T08:14:56.714054",
     "status": "completed"
    },
    "tags": []
   },
   "outputs": [],
   "source": []
  }
 ],
 "metadata": {
  "kernelspec": {
   "display_name": "Python 3",
   "language": "python",
   "name": "python3"
  },
  "language_info": {
   "codemirror_mode": {
    "name": "ipython",
    "version": 3
   },
   "file_extension": ".py",
   "mimetype": "text/x-python",
   "name": "python",
   "nbconvert_exporter": "python",
   "pygments_lexer": "ipython3",
   "version": "3.7.12"
  },
  "papermill": {
   "default_parameters": {},
   "duration": 106.760681,
   "end_time": "2022-05-26T08:14:59.566908",
   "environment_variables": {},
   "exception": null,
   "input_path": "__notebook__.ipynb",
   "output_path": "__notebook__.ipynb",
   "parameters": {},
   "start_time": "2022-05-26T08:13:12.806227",
   "version": "2.3.4"
  }
 },
 "nbformat": 4,
 "nbformat_minor": 5
}
