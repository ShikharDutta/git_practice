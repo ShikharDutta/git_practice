{
 "cells": [
  {
   "cell_type": "code",
   "execution_count": 1,
   "id": "d72b08f1",
   "metadata": {
    "_cell_guid": "b1076dfc-b9ad-4769-8c92-a6c4dae69d19",
    "_uuid": "8f2839f25d086af736a60e9eeb907d3b93b6e0e5",
    "execution": {
     "iopub.execute_input": "2022-05-26T07:58:26.275493Z",
     "iopub.status.busy": "2022-05-26T07:58:26.274847Z",
     "iopub.status.idle": "2022-05-26T07:58:26.295626Z",
     "shell.execute_reply": "2022-05-26T07:58:26.294642Z"
    },
    "papermill": {
     "duration": 0.036244,
     "end_time": "2022-05-26T07:58:26.298797",
     "exception": false,
     "start_time": "2022-05-26T07:58:26.262553",
     "status": "completed"
    },
    "tags": []
   },
   "outputs": [
    {
     "name": "stdout",
     "output_type": "stream",
     "text": [
      "/kaggle/input/spaceshiptitanic/sample_submission.csv\n",
      "/kaggle/input/spaceshiptitanic/train.csv\n",
      "/kaggle/input/spaceshiptitanic/test.csv\n"
     ]
    }
   ],
   "source": [
    "# This Python 3 environment comes with many helpful analytics libraries installed\n",
    "# It is defined by the kaggle/python Docker image: https://github.com/kaggle/docker-python\n",
    "# For example, here's several helpful packages to load\n",
    "\n",
    "import numpy as np # linear algebra\n",
    "import pandas as pd # data processing, CSV file I/O (e.g. pd.read_csv)\n",
    "\n",
    "# Input data files are available in the read-only \"../input/\" directory\n",
    "# For example, running this (by clicking run or pressing Shift+Enter) will list all files under the input directory\n",
    "\n",
    "import os\n",
    "for dirname, _, filenames in os.walk('/kaggle/input'):\n",
    "    for filename in filenames:\n",
    "        print(os.path.join(dirname, filename))\n",
    "\n",
    "# You can write up to 20GB to the current directory (/kaggle/working/) that gets preserved as output when you create a version using \"Save & Run All\" \n",
    "# You can also write temporary files to /kaggle/temp/, but they won't be saved outside of the current session"
   ]
  },
  {
   "cell_type": "code",
   "execution_count": 2,
   "id": "61960a01",
   "metadata": {
    "execution": {
     "iopub.execute_input": "2022-05-26T07:58:26.314107Z",
     "iopub.status.busy": "2022-05-26T07:58:26.313556Z",
     "iopub.status.idle": "2022-05-26T07:58:26.397022Z",
     "shell.execute_reply": "2022-05-26T07:58:26.396201Z"
    },
    "papermill": {
     "duration": 0.093388,
     "end_time": "2022-05-26T07:58:26.399274",
     "exception": false,
     "start_time": "2022-05-26T07:58:26.305886",
     "status": "completed"
    },
    "tags": []
   },
   "outputs": [],
   "source": [
    "train_data = pd.read_csv('/kaggle/input/spaceshiptitanic/train.csv')\n",
    "test_data = pd.read_csv('/kaggle/input/spaceshiptitanic/test.csv')"
   ]
  },
  {
   "cell_type": "code",
   "execution_count": 3,
   "id": "22ad954b",
   "metadata": {
    "execution": {
     "iopub.execute_input": "2022-05-26T07:58:26.413685Z",
     "iopub.status.busy": "2022-05-26T07:58:26.413144Z",
     "iopub.status.idle": "2022-05-26T07:58:26.442851Z",
     "shell.execute_reply": "2022-05-26T07:58:26.442204Z"
    },
    "papermill": {
     "duration": 0.039657,
     "end_time": "2022-05-26T07:58:26.445180",
     "exception": false,
     "start_time": "2022-05-26T07:58:26.405523",
     "status": "completed"
    },
    "tags": []
   },
   "outputs": [
    {
     "data": {
      "text/html": [
       "<div>\n",
       "<style scoped>\n",
       "    .dataframe tbody tr th:only-of-type {\n",
       "        vertical-align: middle;\n",
       "    }\n",
       "\n",
       "    .dataframe tbody tr th {\n",
       "        vertical-align: top;\n",
       "    }\n",
       "\n",
       "    .dataframe thead th {\n",
       "        text-align: right;\n",
       "    }\n",
       "</style>\n",
       "<table border=\"1\" class=\"dataframe\">\n",
       "  <thead>\n",
       "    <tr style=\"text-align: right;\">\n",
       "      <th></th>\n",
       "      <th>PassengerId</th>\n",
       "      <th>HomePlanet</th>\n",
       "      <th>CryoSleep</th>\n",
       "      <th>Cabin</th>\n",
       "      <th>Destination</th>\n",
       "      <th>Age</th>\n",
       "      <th>VIP</th>\n",
       "      <th>RoomService</th>\n",
       "      <th>FoodCourt</th>\n",
       "      <th>ShoppingMall</th>\n",
       "      <th>Spa</th>\n",
       "      <th>VRDeck</th>\n",
       "      <th>Name</th>\n",
       "      <th>Transported</th>\n",
       "    </tr>\n",
       "  </thead>\n",
       "  <tbody>\n",
       "    <tr>\n",
       "      <th>0</th>\n",
       "      <td>0001_01</td>\n",
       "      <td>Europa</td>\n",
       "      <td>False</td>\n",
       "      <td>B/0/P</td>\n",
       "      <td>TRAPPIST-1e</td>\n",
       "      <td>39.0</td>\n",
       "      <td>False</td>\n",
       "      <td>0.0</td>\n",
       "      <td>0.0</td>\n",
       "      <td>0.0</td>\n",
       "      <td>0.0</td>\n",
       "      <td>0.0</td>\n",
       "      <td>Maham Ofracculy</td>\n",
       "      <td>False</td>\n",
       "    </tr>\n",
       "    <tr>\n",
       "      <th>1</th>\n",
       "      <td>0002_01</td>\n",
       "      <td>Earth</td>\n",
       "      <td>False</td>\n",
       "      <td>F/0/S</td>\n",
       "      <td>TRAPPIST-1e</td>\n",
       "      <td>24.0</td>\n",
       "      <td>False</td>\n",
       "      <td>109.0</td>\n",
       "      <td>9.0</td>\n",
       "      <td>25.0</td>\n",
       "      <td>549.0</td>\n",
       "      <td>44.0</td>\n",
       "      <td>Juanna Vines</td>\n",
       "      <td>True</td>\n",
       "    </tr>\n",
       "    <tr>\n",
       "      <th>2</th>\n",
       "      <td>0003_01</td>\n",
       "      <td>Europa</td>\n",
       "      <td>False</td>\n",
       "      <td>A/0/S</td>\n",
       "      <td>TRAPPIST-1e</td>\n",
       "      <td>58.0</td>\n",
       "      <td>True</td>\n",
       "      <td>43.0</td>\n",
       "      <td>3576.0</td>\n",
       "      <td>0.0</td>\n",
       "      <td>6715.0</td>\n",
       "      <td>49.0</td>\n",
       "      <td>Altark Susent</td>\n",
       "      <td>False</td>\n",
       "    </tr>\n",
       "    <tr>\n",
       "      <th>3</th>\n",
       "      <td>0003_02</td>\n",
       "      <td>Europa</td>\n",
       "      <td>False</td>\n",
       "      <td>A/0/S</td>\n",
       "      <td>TRAPPIST-1e</td>\n",
       "      <td>33.0</td>\n",
       "      <td>False</td>\n",
       "      <td>0.0</td>\n",
       "      <td>1283.0</td>\n",
       "      <td>371.0</td>\n",
       "      <td>3329.0</td>\n",
       "      <td>193.0</td>\n",
       "      <td>Solam Susent</td>\n",
       "      <td>False</td>\n",
       "    </tr>\n",
       "    <tr>\n",
       "      <th>4</th>\n",
       "      <td>0004_01</td>\n",
       "      <td>Earth</td>\n",
       "      <td>False</td>\n",
       "      <td>F/1/S</td>\n",
       "      <td>TRAPPIST-1e</td>\n",
       "      <td>16.0</td>\n",
       "      <td>False</td>\n",
       "      <td>303.0</td>\n",
       "      <td>70.0</td>\n",
       "      <td>151.0</td>\n",
       "      <td>565.0</td>\n",
       "      <td>2.0</td>\n",
       "      <td>Willy Santantines</td>\n",
       "      <td>True</td>\n",
       "    </tr>\n",
       "  </tbody>\n",
       "</table>\n",
       "</div>"
      ],
      "text/plain": [
       "  PassengerId HomePlanet CryoSleep  Cabin  Destination   Age    VIP  \\\n",
       "0     0001_01     Europa     False  B/0/P  TRAPPIST-1e  39.0  False   \n",
       "1     0002_01      Earth     False  F/0/S  TRAPPIST-1e  24.0  False   \n",
       "2     0003_01     Europa     False  A/0/S  TRAPPIST-1e  58.0   True   \n",
       "3     0003_02     Europa     False  A/0/S  TRAPPIST-1e  33.0  False   \n",
       "4     0004_01      Earth     False  F/1/S  TRAPPIST-1e  16.0  False   \n",
       "\n",
       "   RoomService  FoodCourt  ShoppingMall     Spa  VRDeck               Name  \\\n",
       "0          0.0        0.0           0.0     0.0     0.0    Maham Ofracculy   \n",
       "1        109.0        9.0          25.0   549.0    44.0       Juanna Vines   \n",
       "2         43.0     3576.0           0.0  6715.0    49.0      Altark Susent   \n",
       "3          0.0     1283.0         371.0  3329.0   193.0       Solam Susent   \n",
       "4        303.0       70.0         151.0   565.0     2.0  Willy Santantines   \n",
       "\n",
       "   Transported  \n",
       "0        False  \n",
       "1         True  \n",
       "2        False  \n",
       "3        False  \n",
       "4         True  "
      ]
     },
     "execution_count": 3,
     "metadata": {},
     "output_type": "execute_result"
    }
   ],
   "source": [
    "train_data.head()"
   ]
  },
  {
   "cell_type": "code",
   "execution_count": 4,
   "id": "eb76e962",
   "metadata": {
    "execution": {
     "iopub.execute_input": "2022-05-26T07:58:26.459796Z",
     "iopub.status.busy": "2022-05-26T07:58:26.459257Z",
     "iopub.status.idle": "2022-05-26T07:58:26.474238Z",
     "shell.execute_reply": "2022-05-26T07:58:26.473473Z"
    },
    "papermill": {
     "duration": 0.024545,
     "end_time": "2022-05-26T07:58:26.476169",
     "exception": false,
     "start_time": "2022-05-26T07:58:26.451624",
     "status": "completed"
    },
    "tags": []
   },
   "outputs": [
    {
     "data": {
      "text/plain": [
       "Age            -0.075026\n",
       "RoomService    -0.244611\n",
       "FoodCourt       0.046566\n",
       "ShoppingMall    0.010141\n",
       "Spa            -0.221131\n",
       "VRDeck         -0.207075\n",
       "Transported     1.000000\n",
       "Name: Transported, dtype: float64"
      ]
     },
     "execution_count": 4,
     "metadata": {},
     "output_type": "execute_result"
    }
   ],
   "source": [
    "train_data.corr()['Transported']"
   ]
  },
  {
   "cell_type": "code",
   "execution_count": 5,
   "id": "40a26947",
   "metadata": {
    "execution": {
     "iopub.execute_input": "2022-05-26T07:58:26.491207Z",
     "iopub.status.busy": "2022-05-26T07:58:26.490296Z",
     "iopub.status.idle": "2022-05-26T07:58:26.500808Z",
     "shell.execute_reply": "2022-05-26T07:58:26.500097Z"
    },
    "papermill": {
     "duration": 0.020271,
     "end_time": "2022-05-26T07:58:26.502929",
     "exception": false,
     "start_time": "2022-05-26T07:58:26.482658",
     "status": "completed"
    },
    "tags": []
   },
   "outputs": [
    {
     "data": {
      "text/plain": [
       "6560"
      ]
     },
     "execution_count": 5,
     "metadata": {},
     "output_type": "execute_result"
    }
   ],
   "source": [
    "train_data['Cabin'].nunique()"
   ]
  },
  {
   "cell_type": "code",
   "execution_count": 6,
   "id": "963a63d6",
   "metadata": {
    "execution": {
     "iopub.execute_input": "2022-05-26T07:58:26.517850Z",
     "iopub.status.busy": "2022-05-26T07:58:26.517247Z",
     "iopub.status.idle": "2022-05-26T07:58:26.553461Z",
     "shell.execute_reply": "2022-05-26T07:58:26.552443Z"
    },
    "papermill": {
     "duration": 0.046219,
     "end_time": "2022-05-26T07:58:26.555670",
     "exception": false,
     "start_time": "2022-05-26T07:58:26.509451",
     "status": "completed"
    },
    "tags": []
   },
   "outputs": [
    {
     "data": {
      "text/plain": [
       "HomePlanet_Earth            -0.168240\n",
       "HomePlanet_Europa            0.176399\n",
       "HomePlanet_Mars              0.019765\n",
       "CryoSleep_False             -0.450897\n",
       "CryoSleep_True               0.459296\n",
       "Destination_55 Cancri e      0.108094\n",
       "Destination_PSO J318.5-22    0.000124\n",
       "Destination_TRAPPIST-1e     -0.093429\n",
       "VIP_False                    0.024502\n",
       "VIP_True                    -0.036973\n",
       "Age                         -0.075026\n",
       "Transported                  1.000000\n",
       "Name: Transported, dtype: float64"
      ]
     },
     "execution_count": 6,
     "metadata": {},
     "output_type": "execute_result"
    }
   ],
   "source": [
    "features = ['HomePlanet','CryoSleep','Destination','VIP']\n",
    "train_data = train_data.dropna(subset=['Age'])\n",
    "X = pd.get_dummies(train_data[features])\n",
    "X = pd.concat([X,train_data['Age']],axis=1)\n",
    "y = train_data['Transported']\n",
    "data = pd.concat([X,y],axis=1)\n",
    "data.corr()['Transported']"
   ]
  },
  {
   "cell_type": "code",
   "execution_count": 7,
   "id": "9bd581e6",
   "metadata": {
    "execution": {
     "iopub.execute_input": "2022-05-26T07:58:26.570850Z",
     "iopub.status.busy": "2022-05-26T07:58:26.570480Z",
     "iopub.status.idle": "2022-05-26T07:58:26.592036Z",
     "shell.execute_reply": "2022-05-26T07:58:26.591280Z"
    },
    "papermill": {
     "duration": 0.031389,
     "end_time": "2022-05-26T07:58:26.593981",
     "exception": false,
     "start_time": "2022-05-26T07:58:26.562592",
     "status": "completed"
    },
    "tags": []
   },
   "outputs": [
    {
     "data": {
      "text/html": [
       "<div>\n",
       "<style scoped>\n",
       "    .dataframe tbody tr th:only-of-type {\n",
       "        vertical-align: middle;\n",
       "    }\n",
       "\n",
       "    .dataframe tbody tr th {\n",
       "        vertical-align: top;\n",
       "    }\n",
       "\n",
       "    .dataframe thead th {\n",
       "        text-align: right;\n",
       "    }\n",
       "</style>\n",
       "<table border=\"1\" class=\"dataframe\">\n",
       "  <thead>\n",
       "    <tr style=\"text-align: right;\">\n",
       "      <th></th>\n",
       "      <th>HomePlanet_Earth</th>\n",
       "      <th>HomePlanet_Europa</th>\n",
       "      <th>HomePlanet_Mars</th>\n",
       "      <th>CryoSleep_False</th>\n",
       "      <th>CryoSleep_True</th>\n",
       "      <th>Destination_55 Cancri e</th>\n",
       "      <th>Destination_PSO J318.5-22</th>\n",
       "      <th>Destination_TRAPPIST-1e</th>\n",
       "      <th>VIP_False</th>\n",
       "      <th>VIP_True</th>\n",
       "      <th>Age</th>\n",
       "    </tr>\n",
       "  </thead>\n",
       "  <tbody>\n",
       "    <tr>\n",
       "      <th>0</th>\n",
       "      <td>1</td>\n",
       "      <td>0</td>\n",
       "      <td>0</td>\n",
       "      <td>0</td>\n",
       "      <td>1</td>\n",
       "      <td>0</td>\n",
       "      <td>0</td>\n",
       "      <td>1</td>\n",
       "      <td>1</td>\n",
       "      <td>0</td>\n",
       "      <td>27.0</td>\n",
       "    </tr>\n",
       "    <tr>\n",
       "      <th>1</th>\n",
       "      <td>1</td>\n",
       "      <td>0</td>\n",
       "      <td>0</td>\n",
       "      <td>1</td>\n",
       "      <td>0</td>\n",
       "      <td>0</td>\n",
       "      <td>0</td>\n",
       "      <td>1</td>\n",
       "      <td>1</td>\n",
       "      <td>0</td>\n",
       "      <td>19.0</td>\n",
       "    </tr>\n",
       "    <tr>\n",
       "      <th>2</th>\n",
       "      <td>0</td>\n",
       "      <td>1</td>\n",
       "      <td>0</td>\n",
       "      <td>0</td>\n",
       "      <td>1</td>\n",
       "      <td>1</td>\n",
       "      <td>0</td>\n",
       "      <td>0</td>\n",
       "      <td>1</td>\n",
       "      <td>0</td>\n",
       "      <td>31.0</td>\n",
       "    </tr>\n",
       "    <tr>\n",
       "      <th>3</th>\n",
       "      <td>0</td>\n",
       "      <td>1</td>\n",
       "      <td>0</td>\n",
       "      <td>1</td>\n",
       "      <td>0</td>\n",
       "      <td>0</td>\n",
       "      <td>0</td>\n",
       "      <td>1</td>\n",
       "      <td>1</td>\n",
       "      <td>0</td>\n",
       "      <td>38.0</td>\n",
       "    </tr>\n",
       "    <tr>\n",
       "      <th>4</th>\n",
       "      <td>1</td>\n",
       "      <td>0</td>\n",
       "      <td>0</td>\n",
       "      <td>1</td>\n",
       "      <td>0</td>\n",
       "      <td>0</td>\n",
       "      <td>0</td>\n",
       "      <td>1</td>\n",
       "      <td>1</td>\n",
       "      <td>0</td>\n",
       "      <td>20.0</td>\n",
       "    </tr>\n",
       "  </tbody>\n",
       "</table>\n",
       "</div>"
      ],
      "text/plain": [
       "   HomePlanet_Earth  HomePlanet_Europa  HomePlanet_Mars  CryoSleep_False  \\\n",
       "0                 1                  0                0                0   \n",
       "1                 1                  0                0                1   \n",
       "2                 0                  1                0                0   \n",
       "3                 0                  1                0                1   \n",
       "4                 1                  0                0                1   \n",
       "\n",
       "   CryoSleep_True  Destination_55 Cancri e  Destination_PSO J318.5-22  \\\n",
       "0               1                        0                          0   \n",
       "1               0                        0                          0   \n",
       "2               1                        1                          0   \n",
       "3               0                        0                          0   \n",
       "4               0                        0                          0   \n",
       "\n",
       "   Destination_TRAPPIST-1e  VIP_False  VIP_True   Age  \n",
       "0                        1          1         0  27.0  \n",
       "1                        1          1         0  19.0  \n",
       "2                        0          1         0  31.0  \n",
       "3                        1          1         0  38.0  \n",
       "4                        1          1         0  20.0  "
      ]
     },
     "execution_count": 7,
     "metadata": {},
     "output_type": "execute_result"
    }
   ],
   "source": [
    "x_test = pd.concat([pd.get_dummies(test_data[features]),test_data['Age']],axis=1)\n",
    "x_test.head()"
   ]
  },
  {
   "cell_type": "code",
   "execution_count": 8,
   "id": "77b4041b",
   "metadata": {
    "execution": {
     "iopub.execute_input": "2022-05-26T07:58:26.609906Z",
     "iopub.status.busy": "2022-05-26T07:58:26.609211Z",
     "iopub.status.idle": "2022-05-26T07:58:27.770629Z",
     "shell.execute_reply": "2022-05-26T07:58:27.769470Z"
    },
    "papermill": {
     "duration": 1.172215,
     "end_time": "2022-05-26T07:58:27.773205",
     "exception": false,
     "start_time": "2022-05-26T07:58:26.600990",
     "status": "completed"
    },
    "tags": []
   },
   "outputs": [],
   "source": [
    "from sklearn.model_selection import train_test_split\n",
    "X_train,X_test,y_train,y_test = train_test_split(X,y,test_size=0.20, random_state=101)"
   ]
  },
  {
   "cell_type": "code",
   "execution_count": 9,
   "id": "8a1bbbaa",
   "metadata": {
    "execution": {
     "iopub.execute_input": "2022-05-26T07:58:27.789380Z",
     "iopub.status.busy": "2022-05-26T07:58:27.788531Z",
     "iopub.status.idle": "2022-05-26T07:58:27.794559Z",
     "shell.execute_reply": "2022-05-26T07:58:27.793428Z"
    },
    "papermill": {
     "duration": 0.016391,
     "end_time": "2022-05-26T07:58:27.796726",
     "exception": false,
     "start_time": "2022-05-26T07:58:27.780335",
     "status": "completed"
    },
    "tags": []
   },
   "outputs": [
    {
     "data": {
      "text/plain": [
       "(6811, 11)"
      ]
     },
     "execution_count": 9,
     "metadata": {},
     "output_type": "execute_result"
    }
   ],
   "source": [
    "X_train.shape"
   ]
  },
  {
   "cell_type": "code",
   "execution_count": 10,
   "id": "b00d3f4b",
   "metadata": {
    "execution": {
     "iopub.execute_input": "2022-05-26T07:58:27.812421Z",
     "iopub.status.busy": "2022-05-26T07:58:27.812035Z",
     "iopub.status.idle": "2022-05-26T07:58:28.605937Z",
     "shell.execute_reply": "2022-05-26T07:58:28.605253Z"
    },
    "papermill": {
     "duration": 0.803989,
     "end_time": "2022-05-26T07:58:28.607883",
     "exception": false,
     "start_time": "2022-05-26T07:58:27.803894",
     "status": "completed"
    },
    "tags": []
   },
   "outputs": [
    {
     "name": "stderr",
     "output_type": "stream",
     "text": [
      "/opt/conda/lib/python3.7/site-packages/xgboost/sklearn.py:797: UserWarning: `early_stopping_rounds` in `fit` method is deprecated for better compatibility with scikit-learn, use `early_stopping_rounds` in constructor or`set_params` instead.\n",
      "  UserWarning,\n"
     ]
    },
    {
     "data": {
      "text/plain": [
       "array([False,  True, False, ..., False,  True, False])"
      ]
     },
     "execution_count": 10,
     "metadata": {},
     "output_type": "execute_result"
    }
   ],
   "source": [
    "from xgboost import XGBRegressor\n",
    "\n",
    "\n",
    "my_model = XGBRegressor(n_estimators=10000, learning_rate=0.05)\n",
    "my_model.fit(X_train, y_train, \n",
    "             early_stopping_rounds=20, \n",
    "             eval_set=[(X_test, y_test)],\n",
    "             verbose=False)\n",
    "pred = my_model.predict(X_test)>0.5\n",
    "pred"
   ]
  },
  {
   "cell_type": "code",
   "execution_count": 11,
   "id": "3f6a2ea0",
   "metadata": {
    "execution": {
     "iopub.execute_input": "2022-05-26T07:58:28.625662Z",
     "iopub.status.busy": "2022-05-26T07:58:28.625287Z",
     "iopub.status.idle": "2022-05-26T07:58:28.632916Z",
     "shell.execute_reply": "2022-05-26T07:58:28.632028Z"
    },
    "papermill": {
     "duration": 0.018401,
     "end_time": "2022-05-26T07:58:28.634883",
     "exception": false,
     "start_time": "2022-05-26T07:58:28.616482",
     "status": "completed"
    },
    "tags": []
   },
   "outputs": [
    {
     "data": {
      "text/plain": [
       "0.7475044039929536"
      ]
     },
     "execution_count": 11,
     "metadata": {},
     "output_type": "execute_result"
    }
   ],
   "source": [
    "from sklearn.metrics import accuracy_score\n",
    "accuracy_score(y_test, pred)"
   ]
  },
  {
   "cell_type": "code",
   "execution_count": 12,
   "id": "1b1dac53",
   "metadata": {
    "execution": {
     "iopub.execute_input": "2022-05-26T07:58:28.651787Z",
     "iopub.status.busy": "2022-05-26T07:58:28.651010Z",
     "iopub.status.idle": "2022-05-26T07:58:28.658331Z",
     "shell.execute_reply": "2022-05-26T07:58:28.657495Z"
    },
    "papermill": {
     "duration": 0.017949,
     "end_time": "2022-05-26T07:58:28.660272",
     "exception": false,
     "start_time": "2022-05-26T07:58:28.642323",
     "status": "completed"
    },
    "tags": []
   },
   "outputs": [
    {
     "data": {
      "text/plain": [
       "\"\\nimport tensorflow as tf\\nfrom tensorflow.keras.models import Sequential\\nfrom tensorflow.keras.layers import Activation,Dense,Dropout\\nmodel = Sequential()\\nmodel.add(Dense(100,activation='sigmoid'))\\nmodel.add(Dense(25,activation='sigmoid'))\\nmodel.add(Dense(6,activation='sigmoid'))\\n\\nmodel.add(Dense(1,activation='sigmoid'))\\nmodel.compile(loss='binary_crossentropy', optimizer='adam')\\nfrom tensorflow.keras.callbacks import EarlyStopping\\nearly_stop = EarlyStopping(monitor='val_loss', mode='min', verbose=1, patience=25)\\nmodel.fit(x=X_train,y=y_train,epochs=200,validation_data=(X_test, y_test),callbacks=(early_stop))\\n\""
      ]
     },
     "execution_count": 12,
     "metadata": {},
     "output_type": "execute_result"
    }
   ],
   "source": [
    "\"\"\"\n",
    "import tensorflow as tf\n",
    "from tensorflow.keras.models import Sequential\n",
    "from tensorflow.keras.layers import Activation,Dense,Dropout\n",
    "model = Sequential()\n",
    "model.add(Dense(100,activation='sigmoid'))\n",
    "model.add(Dense(25,activation='sigmoid'))\n",
    "model.add(Dense(6,activation='sigmoid'))\n",
    "\n",
    "model.add(Dense(1,activation='sigmoid'))\n",
    "model.compile(loss='binary_crossentropy', optimizer='adam')\n",
    "from tensorflow.keras.callbacks import EarlyStopping\n",
    "early_stop = EarlyStopping(monitor='val_loss', mode='min', verbose=1, patience=25)\n",
    "model.fit(x=X_train,y=y_train,epochs=200,validation_data=(X_test, y_test),callbacks=(early_stop))\n",
    "\"\"\""
   ]
  },
  {
   "cell_type": "code",
   "execution_count": 13,
   "id": "e3ae942e",
   "metadata": {
    "execution": {
     "iopub.execute_input": "2022-05-26T07:58:28.677368Z",
     "iopub.status.busy": "2022-05-26T07:58:28.676646Z",
     "iopub.status.idle": "2022-05-26T07:58:28.682807Z",
     "shell.execute_reply": "2022-05-26T07:58:28.681956Z"
    },
    "papermill": {
     "duration": 0.017056,
     "end_time": "2022-05-26T07:58:28.684772",
     "exception": false,
     "start_time": "2022-05-26T07:58:28.667716",
     "status": "completed"
    },
    "tags": []
   },
   "outputs": [
    {
     "data": {
      "text/plain": [
       "\"\\nimport matplotlib.pyplot as plt\\nimport seaborn as sns\\nlosses = pd.DataFrame(model.history.history)\\nlosses[['loss','val_loss']].plot()\\n#losses[['loss']].plot()\\n\""
      ]
     },
     "execution_count": 13,
     "metadata": {},
     "output_type": "execute_result"
    }
   ],
   "source": [
    "\"\"\"\n",
    "import matplotlib.pyplot as plt\n",
    "import seaborn as sns\n",
    "losses = pd.DataFrame(model.history.history)\n",
    "losses[['loss','val_loss']].plot()\n",
    "#losses[['loss']].plot()\n",
    "\"\"\""
   ]
  },
  {
   "cell_type": "code",
   "execution_count": 14,
   "id": "26e56caf",
   "metadata": {
    "execution": {
     "iopub.execute_input": "2022-05-26T07:58:28.702394Z",
     "iopub.status.busy": "2022-05-26T07:58:28.701262Z",
     "iopub.status.idle": "2022-05-26T07:58:28.733007Z",
     "shell.execute_reply": "2022-05-26T07:58:28.730897Z"
    },
    "papermill": {
     "duration": 0.04303,
     "end_time": "2022-05-26T07:58:28.735445",
     "exception": false,
     "start_time": "2022-05-26T07:58:28.692415",
     "status": "completed"
    },
    "tags": []
   },
   "outputs": [
    {
     "data": {
      "text/plain": [
       "array([ True, False,  True, ...,  True,  True, False])"
      ]
     },
     "execution_count": 14,
     "metadata": {},
     "output_type": "execute_result"
    }
   ],
   "source": [
    "predictions = my_model.predict(x_test)>0.5\n",
    "\n",
    "#predictions = predictions.reshape(predictions.shape[0]*predictions.shape[1])\n",
    "predictions\n"
   ]
  },
  {
   "cell_type": "code",
   "execution_count": 15,
   "id": "3e0938b8",
   "metadata": {
    "execution": {
     "iopub.execute_input": "2022-05-26T07:58:28.752906Z",
     "iopub.status.busy": "2022-05-26T07:58:28.752152Z",
     "iopub.status.idle": "2022-05-26T07:58:28.770102Z",
     "shell.execute_reply": "2022-05-26T07:58:28.768704Z"
    },
    "papermill": {
     "duration": 0.029259,
     "end_time": "2022-05-26T07:58:28.772470",
     "exception": false,
     "start_time": "2022-05-26T07:58:28.743211",
     "status": "completed"
    },
    "tags": []
   },
   "outputs": [
    {
     "name": "stdout",
     "output_type": "stream",
     "text": [
      "Your submission was successfully saved!\n"
     ]
    }
   ],
   "source": [
    "output = pd.DataFrame({'PassengerId': test_data.PassengerId, 'Transported': predictions})\n",
    "output.to_csv('my_submission.csv', index=False)\n",
    "print(\"Your submission was successfully saved!\")"
   ]
  },
  {
   "cell_type": "code",
   "execution_count": null,
   "id": "ac8a92c2",
   "metadata": {
    "papermill": {
     "duration": 0.007517,
     "end_time": "2022-05-26T07:58:28.787821",
     "exception": false,
     "start_time": "2022-05-26T07:58:28.780304",
     "status": "completed"
    },
    "tags": []
   },
   "outputs": [],
   "source": []
  },
  {
   "cell_type": "code",
   "execution_count": null,
   "id": "2322226f",
   "metadata": {
    "papermill": {
     "duration": 0.007385,
     "end_time": "2022-05-26T07:58:28.802923",
     "exception": false,
     "start_time": "2022-05-26T07:58:28.795538",
     "status": "completed"
    },
    "tags": []
   },
   "outputs": [],
   "source": []
  },
  {
   "cell_type": "code",
   "execution_count": null,
   "id": "336c1986",
   "metadata": {
    "papermill": {
     "duration": 0.007281,
     "end_time": "2022-05-26T07:58:28.818000",
     "exception": false,
     "start_time": "2022-05-26T07:58:28.810719",
     "status": "completed"
    },
    "tags": []
   },
   "outputs": [],
   "source": []
  },
  {
   "cell_type": "code",
   "execution_count": null,
   "id": "c8ce1b80",
   "metadata": {
    "papermill": {
     "duration": 0.007344,
     "end_time": "2022-05-26T07:58:28.833159",
     "exception": false,
     "start_time": "2022-05-26T07:58:28.825815",
     "status": "completed"
    },
    "tags": []
   },
   "outputs": [],
   "source": []
  },
  {
   "cell_type": "code",
   "execution_count": null,
   "id": "7e995eba",
   "metadata": {
    "papermill": {
     "duration": 0.007457,
     "end_time": "2022-05-26T07:58:28.848282",
     "exception": false,
     "start_time": "2022-05-26T07:58:28.840825",
     "status": "completed"
    },
    "tags": []
   },
   "outputs": [],
   "source": []
  },
  {
   "cell_type": "code",
   "execution_count": null,
   "id": "f8032292",
   "metadata": {
    "papermill": {
     "duration": 0.007512,
     "end_time": "2022-05-26T07:58:28.863466",
     "exception": false,
     "start_time": "2022-05-26T07:58:28.855954",
     "status": "completed"
    },
    "tags": []
   },
   "outputs": [],
   "source": []
  }
 ],
 "metadata": {
  "kernelspec": {
   "display_name": "Python 3",
   "language": "python",
   "name": "python3"
  },
  "language_info": {
   "codemirror_mode": {
    "name": "ipython",
    "version": 3
   },
   "file_extension": ".py",
   "mimetype": "text/x-python",
   "name": "python",
   "nbconvert_exporter": "python",
   "pygments_lexer": "ipython3",
   "version": "3.7.12"
  },
  "papermill": {
   "default_parameters": {},
   "duration": 13.781938,
   "end_time": "2022-05-26T07:58:29.592498",
   "environment_variables": {},
   "exception": null,
   "input_path": "__notebook__.ipynb",
   "output_path": "__notebook__.ipynb",
   "parameters": {},
   "start_time": "2022-05-26T07:58:15.810560",
   "version": "2.3.4"
  }
 },
 "nbformat": 4,
 "nbformat_minor": 5
}
